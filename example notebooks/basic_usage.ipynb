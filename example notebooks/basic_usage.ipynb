{
 "cells": [
  {
   "cell_type": "markdown",
   "id": "ead1591c",
   "metadata": {},
   "source": [
    "## Setup"
   ]
  },
  {
   "cell_type": "code",
   "execution_count": 1,
   "id": "8e3f3f04",
   "metadata": {},
   "outputs": [],
   "source": [
    "import os, sys"
   ]
  },
  {
   "cell_type": "code",
   "execution_count": 2,
   "id": "ee1a7b75",
   "metadata": {},
   "outputs": [
    {
     "name": "stdout",
     "output_type": "stream",
     "text": [
      "Collecting peptides\n",
      "  Downloading peptides-0.2.1-py3-none-any.whl (102 kB)\n",
      "\u001b[K     |████████████████████████████████| 102 kB 1.5 MB/s eta 0:00:01\n",
      "\u001b[?25hInstalling collected packages: peptides\n",
      "Successfully installed peptides-0.2.1\n",
      "\u001b[33mWARNING: Running pip as the 'root' user can result in broken permissions and conflicting behaviour with the system package manager. It is recommended to use a virtual environment instead: https://pip.pypa.io/warnings/venv\u001b[0m\n"
     ]
    }
   ],
   "source": [
    "!pip install peptides"
   ]
  },
  {
   "cell_type": "code",
   "execution_count": 6,
   "id": "33c2220b",
   "metadata": {},
   "outputs": [
    {
     "name": "stdout",
     "output_type": "stream",
     "text": [
      "The autoreload extension is already loaded. To reload it, use:\n",
      "  %reload_ext autoreload\n"
     ]
    }
   ],
   "source": [
    "sys.path.append(\"../src\")  # developmental hack, to load the local version of the module\n",
    "%load_ext autoreload\n",
    "%autoreload 2\n",
    "\n",
    "import pEpiDist as epi"
   ]
  },
  {
   "cell_type": "markdown",
   "id": "86a18f6a",
   "metadata": {},
   "source": [
    "## Initialize reference DB"
   ]
  },
  {
   "cell_type": "code",
   "execution_count": 8,
   "id": "5954c8b7",
   "metadata": {},
   "outputs": [],
   "source": [
    "proteome_location = \"../proteomes/human_proteome.fasta\"\n",
    "proteome_location = \"../proteomes/example.fa\"\n",
    "pepi_db = epi.create_peptide_db(proteome_location, 8)"
   ]
  },
  {
   "cell_type": "code",
   "execution_count": 10,
   "id": "9bee9fed-56cc-4c39-a794-04e787e53b3d",
   "metadata": {},
   "outputs": [
    {
     "data": {
      "text/plain": [
       "[('ALGDSLTA', 2, '105_H7C012;452_H7C012'),\n",
       " ('LGDSLTAG', 2, '106_H7C012;453_H7C012'),\n",
       " ('GDSLTAGN', 2, '107_H7C012;454_H7C012'),\n",
       " ('DSLTAGNG', 2, '108_H7C012;455_H7C012'),\n",
       " ('MAVMAPRT', 1, '0_tr'),\n",
       " ('AVMAPRTL', 1, '1_tr'),\n",
       " ('VMAPRTLL', 1, '2_tr'),\n",
       " ('MAPRTLLL', 1, '3_tr'),\n",
       " ('APRTLLLL', 1, '4_tr'),\n",
       " ('PRTLLLLL', 1, '5_tr')]"
      ]
     },
     "execution_count": 10,
     "metadata": {},
     "output_type": "execute_result"
    }
   ],
   "source": [
    "test_peptide_set = pepi_db[:10]\n",
    "\n",
    "test_peptide_set"
   ]
  },
  {
   "cell_type": "markdown",
   "id": "84da178c",
   "metadata": {},
   "source": [
    "## Query a peptide"
   ]
  },
  {
   "cell_type": "code",
   "execution_count": null,
   "id": "d78e40c9",
   "metadata": {},
   "outputs": [],
   "source": [
    "epitope_seq = \"QWSWERTREWSDFDERWRWDSFREDSEQWDS\"\n",
    "epi.query(epitope_seq, pepi_db)"
   ]
  }
 ],
 "metadata": {
  "jupytext": {
   "formats": "md,ipynb"
  },
  "kernelspec": {
   "display_name": "Python 3",
   "language": "python",
   "name": "python3"
  },
  "language_info": {
   "codemirror_mode": {
    "name": "ipython",
    "version": 3
   },
   "file_extension": ".py",
   "mimetype": "text/x-python",
   "name": "python",
   "nbconvert_exporter": "python",
   "pygments_lexer": "ipython3",
   "version": "3.9.12"
  }
 },
 "nbformat": 4,
 "nbformat_minor": 5
}
